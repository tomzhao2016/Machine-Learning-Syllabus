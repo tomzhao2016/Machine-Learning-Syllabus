{
 "cells": [
  {
   "cell_type": "code",
   "execution_count": 11,
   "metadata": {
    "collapsed": true
   },
   "outputs": [],
   "source": [
    "import numpy as np\n",
    "import scipy as sci\n",
    "import matplotlib.pyplot as plt\n",
    "import pickle"
   ]
  },
  {
   "cell_type": "code",
   "execution_count": 12,
   "metadata": {
    "collapsed": true
   },
   "outputs": [],
   "source": [
    "x_train = pickle.load(open( 'x_train.p', 'rb' ), encoding='latin1')\n",
    "x_train = np.asarray(x_train, dtype = np.float64)\n",
    "x_train = x_train.reshape(x_train.shape[0],-1)\n",
    "x_train = x_train * 2 / 255 - 1\n",
    "x_train\n",
    "y_train = pickle.load(open( 'y_train.p', 'rb' ), encoding='latin1')\n",
    "y_train = np.asarray(y_train, dtype = np.float64)"
   ]
  },
  {
   "cell_type": "code",
   "execution_count": 16,
   "metadata": {},
   "outputs": [
    {
     "data": {
      "image/png": "[encoded data removed]",
      "text/plain": [
       "<matplotlib.figure.Figure at 0x1138a6978>"
      ]
     },
     "metadata": {},
     "output_type": "display_data"
    }
   ],
   "source": [
    "I = np.identity(len(x_train.T))\n",
    "lam = list([0.1,1.0,10,100,1000])\n",
    "j = 0\n",
    "error = np.zeros(len(lam))\n",
    "for i in lam:\n",
    "    pi = np.linalg.solve(np.dot(x_train.T,x_train)+i*I ,np.dot(x_train.T,y_train))\n",
    "    error[j] = np.linalg.norm(np.dot(x_train,pi)-y_train)**2/len(x_train)\n",
    "    j = j + 1\n",
    "plt.plot(np.log10(lam),error)\n",
    "plt.show()"
   ]
  },
  {
   "cell_type": "code",
   "execution_count": 17,
   "metadata": {},
   "outputs": [
    {
     "data": {
      "text/plain": [
       "array([  3.25574750e-07,   2.91051229e-05,   1.59038146e-03,\n",
       "         3.47731220e-02,   2.54402961e-01])"
      ]
     },
     "execution_count": 17,
     "metadata": {},
     "output_type": "execute_result"
    }
   ],
   "source": [
    "error"
   ]
  },
  {
   "cell_type": "code",
   "execution_count": null,
   "metadata": {
    "collapsed": true
   },
   "outputs": [],
   "source": []
  }
 ],
 "metadata": {
  "kernelspec": {
   "display_name": "Python 3",
   "language": "python",
   "name": "python3"
  },
  "language_info": {
   "codemirror_mode": {
    "name": "ipython",
    "version": 3
   },
   "file_extension": ".py",
   "mimetype": "text/x-python",
   "name": "python",
   "nbconvert_exporter": "python",
   "pygments_lexer": "ipython3",
   "version": "3.6.1"
  }
 },
 "nbformat": 4,
 "nbformat_minor": 2
}
