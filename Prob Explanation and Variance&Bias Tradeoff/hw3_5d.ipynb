{
 "cells": [
  {
   "cell_type": "code",
   "execution_count": 8,
   "metadata": {
    "collapsed": true
   },
   "outputs": [],
   "source": [
    "import numpy as np\n",
    "import scipy as sci\n",
    "import matplotlib.pyplot as plt\n",
    "import pickle"
   ]
  },
  {
   "cell_type": "code",
   "execution_count": 9,
   "metadata": {
    "collapsed": true
   },
   "outputs": [],
   "source": [
    "x_train = pickle.load(open( 'x_train.p', 'rb' ), encoding='latin1')\n",
    "x_train = np.asarray(x_train, dtype = np.float64)\n",
    "x_train = x_train.reshape(x_train.shape[0],-1)\n",
    "x_train\n",
    "y_train = pickle.load(open( 'y_train.p', 'rb' ), encoding='latin1')\n",
    "y_train = np.asarray(y_train, dtype = np.float64)"
   ]
  },
  {
   "cell_type": "code",
   "execution_count": 10,
   "metadata": {},
   "outputs": [
    {
     "data": {
      "text/plain": [
       "(2778523071065691.0, 197781.15433631605)"
      ]
     },
     "execution_count": 10,
     "metadata": {},
     "output_type": "execute_result"
    }
   ],
   "source": [
    "I = np.identity(len(x_train.T))\n",
    "lam = 100\n",
    "k = np.linalg.norm(np.dot(x_train.T,x_train)+lam*I,2)**2/np.linalg.norm(np.dot(x_train.T,x_train)+lam*I,-2)**2\n",
    "x_train = x_train * 2 / 255 - 1\n",
    "kSt = np.linalg.norm(np.dot(x_train.T,x_train)+lam*I,2)**2/np.linalg.norm(np.dot(x_train.T,x_train)+lam*I,-2)**2\n",
    "k,kSt"
   ]
  },
  {
   "cell_type": "code",
   "execution_count": null,
   "metadata": {
    "collapsed": true
   },
   "outputs": [],
   "source": []
  }
 ],
 "metadata": {
  "kernelspec": {
   "display_name": "Python 3",
   "language": "python",
   "name": "python3"
  },
  "language_info": {
   "codemirror_mode": {
    "name": "ipython",
    "version": 3
   },
   "file_extension": ".py",
   "mimetype": "text/x-python",
   "name": "python",
   "nbconvert_exporter": "python",
   "pygments_lexer": "ipython3",
   "version": "3.6.1"
  }
 },
 "nbformat": 4,
 "nbformat_minor": 2
}
