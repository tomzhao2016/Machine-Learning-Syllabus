{
 "cells": [
  {
   "cell_type": "code",
   "execution_count": 119,
   "metadata": {},
   "outputs": [],
   "source": [
    "import numpy as np\n",
    "from numpy import genfromtxt\n",
    "import scipy.io\n",
    "\n",
    "from scipy import stats\n",
    "from sklearn.tree import DecisionTreeClassifier\n",
    "from sklearn.base import BaseEstimator, ClassifierMixin\n",
    "from sklearn.preprocessing import OneHotEncoder"
   ]
  },
  {
   "cell_type": "code",
   "execution_count": 147,
   "metadata": {},
   "outputs": [],
   "source": [
    "path_train = 'titanic_training.csv'\n",
    "\n",
    "data = genfromtxt(path_train, delimiter=',', dtype=np.float32)\n",
    "features = data[0, 1:]  # features = all columns except survived\n",
    "y = data[1:, 0]  # label = survived\n",
    "class_names = [\"Died\", \"Survived\"]\n",
    "data[np.isnan(data)]=0"
   ]
  },
  {
   "cell_type": "code",
   "execution_count": 210,
   "metadata": {},
   "outputs": [],
   "source": [
    "X_pre = np.asarray([data[1:,1],data[1:,2],data[1:,4],data[1:,5],data[1:,7],data[1:,3],data[1:,6]])\n",
    "a = OneHotEncoder(categorical_features = np.array([0,1,2,3,4]))\n",
    "a.fit(X_pre.T)\n",
    "test = a.transform(X_pre.T).toarray()"
   ]
  },
  {
   "cell_type": "code",
   "execution_count": 173,
   "metadata": {},
   "outputs": [
    {
     "data": {
      "text/plain": [
       "array([[   0.        ,    0.        ,    0.        , ...,    0.        ,\n",
       "           0.        ,    8.05000019],\n",
       "       [   0.        ,    1.        ,    0.        , ...,    0.        ,\n",
       "          22.        ,  135.63330078],\n",
       "       [   0.        ,    0.        ,    1.        , ...,    0.        ,\n",
       "          23.        ,   15.04580021],\n",
       "       ..., \n",
       "       [   0.        ,    0.        ,    1.        , ...,    0.        ,\n",
       "          63.        ,   26.        ],\n",
       "       [   0.        ,    0.        ,    0.        , ...,    0.        ,\n",
       "          41.        ,   39.6875    ],\n",
       "       [   0.        ,    0.        ,    1.        , ...,    0.        ,\n",
       "          34.        ,   26.        ]])"
      ]
     },
     "execution_count": 173,
     "metadata": {},
     "output_type": "execute_result"
    }
   ],
   "source": [
    "dt.decision_trees[i].tree_.feature[0]\n"
   ]
  },
  {
   "cell_type": "code",
   "execution_count": 205,
   "metadata": {},
   "outputs": [
    {
     "data": {
      "text/plain": [
       "array([[ 1,  5],\n",
       "       [ 2,  3],\n",
       "       [ 5,  1],\n",
       "       [25,  1]])"
      ]
     },
     "execution_count": 205,
     "metadata": {},
     "output_type": "execute_result"
    }
   ],
   "source": [
    "x = np.array([1,1,1,2,2,2,5,25,1,1])\n",
    "y = np.bincount(x)\n",
    "ii = np.nonzero(y)[0]\n",
    "np.vstack((ii,y[ii])).T"
   ]
  },
  {
   "cell_type": "code",
   "execution_count": 214,
   "metadata": {},
   "outputs": [],
   "source": [
    "sub_ind = np.random.choice(range(test.shape[0]), 10, replace = True)\n",
    "sub_ind_feat = np.random.choice(range(test.shape[1]), 2, replace = True)\n",
    "X_new = test[sub_ind, :]\n",
    "X_new = X_new[:, sub_ind_feat]\n",
    "X_new) == y_new,self.w"
   ]
  },
  {
   "cell_type": "code",
   "execution_count": 228,
   "metadata": {},
   "outputs": [
    {
     "data": {
      "text/plain": [
       "1"
      ]
     },
     "execution_count": 228,
     "metadata": {},
     "output_type": "execute_result"
    }
   ],
   "source": [
    "ind = np.where((np.array([1,2,3]) == np.array([1,2,2]))==True)\n",
    "test = np.array([1,2,2])\n",
    "len(ind)"
   ]
  },
  {
   "cell_type": "code",
   "execution_count": 217,
   "metadata": {},
   "outputs": [
    {
     "name": "stdout",
     "output_type": "stream",
     "text": [
      "{'a': 2, 'b': 1}\n"
     ]
    }
   ],
   "source": [
    "a = [\"a\", \"b\", \"a\"]\n",
    "result = dict((i, a.count(i)) for i in a)\n",
    "print (result)"
   ]
  },
  {
   "cell_type": "code",
   "execution_count": 220,
   "metadata": {},
   "outputs": [
    {
     "data": {
      "text/plain": [
       "array(<built-in method values of dict object at 0x10f09a900>, dtype=object)"
      ]
     },
     "execution_count": 220,
     "metadata": {},
     "output_type": "execute_result"
    }
   ],
   "source": [
    "result."
   ]
  },
  {
   "cell_type": "code",
   "execution_count": null,
   "metadata": {
    "collapsed": true
   },
   "outputs": [],
   "source": []
  }
 ],
 "metadata": {
  "kernelspec": {
   "display_name": "Python 3",
   "language": "python",
   "name": "python3"
  },
  "language_info": {
   "codemirror_mode": {
    "name": "ipython",
    "version": 3
   },
   "file_extension": ".py",
   "mimetype": "text/x-python",
   "name": "python",
   "nbconvert_exporter": "python",
   "pygments_lexer": "ipython3",
   "version": "3.6.1"
  }
 },
 "nbformat": 4,
 "nbformat_minor": 2
}
