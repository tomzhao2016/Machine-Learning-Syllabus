{
 "cells": [
  {
   "cell_type": "code",
   "execution_count": 7,
   "metadata": {
    "collapsed": true
   },
   "outputs": [],
   "source": [
    "import numpy as np\n",
    "from skimage.transform import resize\n",
    "from skimage.io import imsave\n",
    "import pickle\n",
    "from scipy.linalg import eig\n",
    "from scipy.linalg import sqrtm\n",
    "from numpy.linalg import inv\n",
    "from numpy.linalg import svd\n",
    "import matplotlib.pyplot as plt\n",
    "from sklearn.preprocessing import StandardScaler"
   ]
  },
  {
   "cell_type": "markdown",
   "metadata": {},
   "source": [
    "## 5 a)"
   ]
  },
  {
   "cell_type": "code",
   "execution_count": 8,
   "metadata": {
    "collapsed": true
   },
   "outputs": [],
   "source": [
    "x_train = pickle.load(open( 'x_train.p', 'rb' ), encoding='latin1')\n",
    "x_train = np.asarray(x_train)\n",
    "x_train = x_train/255.0*2.0-1.0\n",
    "x_train = x_train.reshape(x_train.shape[0],-1)\n",
    "y_train = pickle.load(open( 'y_train.p', 'rb' ), encoding='latin1')\n",
    "y_train = np.asarray(y_train)\n",
    "y_train = y_train/255.0*2.0-1.0\n",
    "y_train = y_train.reshape(y_train.shape[0],-1)"
   ]
  },
  {
   "cell_type": "code",
   "execution_count": 9,
   "metadata": {
    "collapsed": true
   },
   "outputs": [],
   "source": [
    "x_mean = np.sum(x_train,0)/np.size(x_train,0)\n",
    "y_mean = np.sum(y_train,0)/np.size(y_train,0)\n",
    "x_var = np.dot((x_train - x_mean).T,x_train - x_mean)/(np.size(x_train,0)-1)\n",
    "\n",
    "y_var = np.dot((y_train - y_mean).T,y_train - y_mean)/(np.size(y_train,0)-1)\n",
    "xy_var = np.dot((y_train - y_mean).T,x_train - x_mean)/(np.size(y_train,0)-1)\n",
    "#y_train - y_mean\n",
    "#np.size(x_train,0)\n",
    "\n",
    "#plt.imshow(y_train[0]/255.0)\n",
    "#plt.show()"
   ]
  },
  {
   "cell_type": "markdown",
   "metadata": {},
   "source": [
    "## 5 b)"
   ]
  },
  {
   "cell_type": "code",
   "execution_count": 11,
   "metadata": {},
   "outputs": [
    {
     "data": {
      "image/png": "[encoded data removed]",
      "text/plain": [
       "<matplotlib.figure.Figure at 0x115092cf8>"
      ]
     },
     "metadata": {},
     "output_type": "display_data"
    }
   ],
   "source": [
    "lamb = 0.00001\n",
    "[U_x,D_x,V_x] = svd(x_var + lamb*np.eye(np.size(x_var,0)))\n",
    "[U_y,D_y,V_y] = svd(y_var + lamb*np.eye(np.size(y_var,0)))\n",
    "\n",
    "Ax = np.dot(np.dot(U_x,np.linalg.inv(sqrtm(np.diag(D_x)))),V_x)\n",
    "Ay = np.dot(np.dot(U_y,np.linalg.inv(sqrtm(np.diag(D_y)))),V_y)\n",
    "[U,D,V] = svd(np.dot(np.dot(Ax,xy_var.T),Ay))\n",
    "plt.plot(range(np.size(D)),D)\n",
    "plt.show()"
   ]
  },
  {
   "cell_type": "markdown",
   "metadata": {},
   "source": [
    "## 5 c)"
   ]
  },
  {
   "cell_type": "code",
   "execution_count": 12,
   "metadata": {
    "collapsed": true
   },
   "outputs": [],
   "source": [
    "def plot_image(vector,string):\n",
    "    vector = ((vector+ 1.0)/2.0)*255.0\n",
    "    vector = np.reshape(vector, (15,15,3))\n",
    "    p = vector.astype(\"uint8\")\n",
    "    p = resize(p, (100, 100), mode='reflect')\n",
    "    #p = cv2.resize(p,(100,100))\n",
    "    count = 0\n",
    "    imsave(string, p)"
   ]
  },
  {
   "cell_type": "code",
   "execution_count": 13,
   "metadata": {},
   "outputs": [
    {
     "name": "stderr",
     "output_type": "stream",
     "text": [
      "/Users/zhaoqingyang/anaconda/lib/python3.6/site-packages/skimage/util/dtype.py:122: UserWarning: Possible precision loss when converting from float64 to uint8\n",
      "  .format(dtypeobj_in, dtypeobj_out))\n"
     ]
    }
   ],
   "source": [
    "plot_image( x_mean + U[:,0],'eigen_face.png')"
   ]
  },
  {
   "cell_type": "markdown",
   "metadata": {},
   "source": [
    "## 5 d)"
   ]
  },
  {
   "cell_type": "code",
   "execution_count": 14,
   "metadata": {
    "collapsed": true
   },
   "outputs": [],
   "source": [
    "x_test = pickle.load(open( 'x_test.p', 'rb' ), encoding='latin1')\n",
    "x_test = np.asarray(x_test)\n",
    "x_test = x_test/255.0*2.0-1.0\n",
    "x_test = x_test.reshape(x_test.shape[0],-1)\n",
    "y_test = pickle.load(open( 'y_test.p', 'rb' ), encoding='latin1')\n",
    "y_test = np.asarray(y_test)\n",
    "y_test = y_test/255.0*2.0-1.0\n",
    "y_test = y_test.reshape(y_test.shape[0],-1)\n",
    "kRange = list([0,50,100,150,200,250,300,350,400,450,500,650])\n",
    "error = []\n",
    "for k in kRange:\n",
    "    B = np.dot(x_train,U[:,:k + 1])\n",
    "    B = np.dot(np.dot(np.linalg.inv(np.dot(B.T,B) + lamb*np.eye(np.size(B,1))),B.T),y_train)\n",
    "    error.append(np.linalg.norm(np.dot(np.dot(x_test,U[:,0:k + 1]),B) - y_test)**2)"
   ]
  },
  {
   "cell_type": "code",
   "execution_count": 15,
   "metadata": {},
   "outputs": [
    {
     "data": {
      "image/png": "[encoded data removed]",
      "text/plain": [
       "<matplotlib.figure.Figure at 0x117af8240>"
      ]
     },
     "metadata": {},
     "output_type": "display_data"
    }
   ],
   "source": [
    "plt.plot(kRange,error)\n",
    "plt.show()"
   ]
  },
  {
   "cell_type": "markdown",
   "metadata": {},
   "source": [
    "## 5 e)"
   ]
  },
  {
   "cell_type": "code",
   "execution_count": 16,
   "metadata": {},
   "outputs": [
    {
     "name": "stderr",
     "output_type": "stream",
     "text": [
      "/Users/zhaoqingyang/anaconda/lib/python3.6/site-packages/skimage/util/dtype.py:122: UserWarning: Possible precision loss when converting from float64 to uint8\n",
      "  .format(dtypeobj_in, dtypeobj_out))\n"
     ]
    }
   ],
   "source": [
    "B = np.dot(x_train,U[:,:100 + 1])\n",
    "B = np.dot(np.dot(np.linalg.inv(np.dot(B.T,B) + lamb*np.eye(np.size(B,1))),B.T),y_train)\n",
    "preImg = np.dot(np.dot(x_test,U[:,0:100 + 1]),B)\n",
    "\n",
    "plot_image(x_test[0,:],'test_0_bin.png')\n",
    "plot_image(y_test[0,:],'test_0_gro.png')\n",
    "plot_image(preImg[0,:],'test_0_pre.png')\n",
    "\n",
    "\n",
    "plot_image(x_test[1,:],'test_1_bin.png')\n",
    "plot_image(y_test[1,:],'test_1_gro.png')\n",
    "plot_image(preImg[1,:],'test_1_pre.png')\n",
    "\n",
    "\n",
    "plot_image(x_test[2,:],'test_2_bin.png')\n",
    "plot_image(y_test[2,:],'test_2_gro.png')\n",
    "plot_image(preImg[2,:],'test_2_pre.png')\n",
    "\n",
    "\n",
    "plot_image(x_test[3,:],'test_3_bin.png')\n",
    "plot_image(y_test[3,:],'test_3_gro.png')\n",
    "plot_image(preImg[3,:],'test_3_pre.png')\n",
    "\n"
   ]
  },
  {
   "cell_type": "code",
   "execution_count": 33,
   "metadata": {},
   "outputs": [
    {
     "data": {
      "image/png": "[encoded data removed]",
      "text/plain": [
       "<matplotlib.figure.Figure at 0x1193202e8>"
      ]
     },
     "metadata": {},
     "output_type": "display_data"
    }
   ],
   "source": [
    "image = np.zeros((15,15,3),dtype =np.float)\n",
    "image = y_test[1].reshape(15,15,3)\n",
    "plt.imshow(image)\n",
    "plt.show()"
   ]
  },
  {
   "cell_type": "code",
   "execution_count": null,
   "metadata": {
    "collapsed": true
   },
   "outputs": [],
   "source": []
  }
 ],
 "metadata": {
  "kernelspec": {
   "display_name": "Python 3",
   "language": "python",
   "name": "python3"
  },
  "language_info": {
   "codemirror_mode": {
    "name": "ipython",
    "version": 3
   },
   "file_extension": ".py",
   "mimetype": "text/x-python",
   "name": "python",
   "nbconvert_exporter": "python",
   "pygments_lexer": "ipython3",
   "version": "3.6.1"
  }
 },
 "nbformat": 4,
 "nbformat_minor": 2
}
